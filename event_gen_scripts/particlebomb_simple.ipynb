{
 "cells": [
  {
   "cell_type": "code",
   "execution_count": 1,
   "id": "1595c489-27a4-4b4c-9351-dca35901ded7",
   "metadata": {},
   "outputs": [
    {
     "name": "stdout",
     "output_type": "stream",
     "text": [
      "env: DLPGENERATOR_DIR=/sdf/group/neutrino/sfogarty/DLPGenerator\n"
     ]
    }
   ],
   "source": [
    "# tell it where to find the generator, change to your directory\n",
    "# this first line only works in a notebook\n",
    "%env DLPGENERATOR_DIR=/sdf/group/neutrino/sfogarty/DLPGenerator\n",
    "import yaml"
   ]
  },
  {
   "cell_type": "code",
   "execution_count": 4,
   "id": "55557aa6-b2e1-4dd2-a5ca-b92da37d219a",
   "metadata": {},
   "outputs": [
    {
     "name": "stdout",
     "output_type": "stream",
     "text": [
      "Welcome to JupyROOT 6.22/09\n"
     ]
    }
   ],
   "source": [
    "from ROOT import gSystem\n",
    "gSystem.Load('/sdf/home/s/sfogarty/Desktop/DLPGenerator/build/lib/libLiteFMWK_ParticleBomb.so')\n",
    "import sys\n",
    "sys.path.insert(0,'/sdf/home/s/sfogarty/Desktop/DLPGenerator/python')"
   ]
  },
  {
   "cell_type": "code",
   "execution_count": 5,
   "id": "1ea53cd8-ff4f-449d-be45-69fc15ffc4cd",
   "metadata": {},
   "outputs": [],
   "source": [
    "from dlp_generator import create_generator, EXAMPLE_CONFIG\n",
    "\n",
    "# parse configuration\n",
    "cfg=yaml.load(EXAMPLE_CONFIG, Loader=yaml.Loader)\n",
    "\n",
    "# create and configure a generator\n",
    "gen = create_generator(cfg)"
   ]
  },
  {
   "cell_type": "code",
   "execution_count": 6,
   "id": "6cbe7f70-a616-4916-b028-707f920d1727",
   "metadata": {},
   "outputs": [],
   "source": [
    "# run the generator\n",
    "result = gen.Generate()"
   ]
  },
  {
   "cell_type": "code",
   "execution_count": 7,
   "id": "0ea5177d-da30-484a-be96-f9814cdf7798",
   "metadata": {},
   "outputs": [
    {
     "name": "stdout",
     "output_type": "stream",
     "text": [
      "ParticleBomb created with SEED 4189601871\n",
      "\n",
      "Running a new generation...\n",
      "\n",
      "\n",
      "Interaction config 0 multiplicity: 1\n",
      "\n",
      "  Generating an interaction 0 with 3 particles...\n",
      "  Vertex at (79.7458,81.6898,51.2685) [mm] ... time @ 3.61668 [ns]\n",
      "  Adding a virtual root particle (Graviton PDG 39)\n",
      "\n",
      "    New particle PDG 211 Mass 0.13957 [GeV/c**2]\n",
      "    Direction : (-0.572759,0.239262,0.784029)\n",
      "    Momentum  : 0.398361 [GeV/c]\n",
      "    Energy    : 0.422104 [GeV/c**2]\n",
      "\n",
      "    New particle PDG 2112 Mass 0.939565 [GeV/c**2]\n",
      "    Direction : (0.150348,-0.346153,0.926053)\n",
      "    Momentum  : 0.815076 [GeV/c]\n",
      "    Energy    : 1.24384 [GeV/c**2]\n",
      "\n",
      "    New particle PDG 211 Mass 0.13957 [GeV/c**2]\n",
      "    Direction : (-0.171667,0.946168,-0.274404)\n",
      "    Momentum  : 0.5312 [GeV/c]\n",
      "    Energy    : 0.54923 [GeV/c**2]\n",
      "\n",
      "\n",
      "Interaction config 1 multiplicity: 1\n",
      "\n",
      "  Generating an interaction 0 with 4 particles...\n",
      "  Vertex at (57.3153,34.0045,30.8864) [mm] ... time @ 1.34206 [ns]\n",
      "\n",
      "    New particle PDG 13 Mass 0.105658 [GeV/c**2]\n",
      "    Direction : (0.674105,-0.21826,-0.705653)\n",
      "    Momentum  : 0.0477082 [GeV/c]\n",
      "    Energy    : 0.11593 [GeV/c**2]\n",
      "\n",
      "    New particle PDG 13 Mass 0.105658 [GeV/c**2]\n",
      "    Direction : (-0.294159,-0.438225,0.84937)\n",
      "    Momentum  : 0.439473 [GeV/c]\n",
      "    Energy    : 0.451996 [GeV/c**2]\n",
      "\n",
      "    New particle PDG 13 Mass 0.105658 [GeV/c**2]\n",
      "    Direction : (0.0972694,0.281323,0.954671)\n",
      "    Momentum  : 0.908475 [GeV/c]\n",
      "    Energy    : 0.914599 [GeV/c**2]\n",
      "\n",
      "    New particle PDG 11 Mass 0.000510999 [GeV/c**2]\n",
      "    Direction : (-0.0614747,0.0287282,-0.997695)\n",
      "    Momentum  : 0.80415 [GeV/c]\n",
      "    Energy    : 0.80415 [GeV/c**2]\n"
     ]
    }
   ],
   "source": [
    "# Set the Debug flag to True in the configuration\n",
    "cfg['Debug'] = True\n",
    "\n",
    "# create and configure a generator\n",
    "gen = create_generator(cfg)\n",
    "\n",
    "# run\n",
    "result = gen.Generate()"
   ]
  },
  {
   "cell_type": "code",
   "execution_count": null,
   "id": "b45c9f26-1ed1-4c3d-b97d-6315de15241f",
   "metadata": {},
   "outputs": [],
   "source": []
  }
 ],
 "metadata": {
  "kernelspec": {
   "display_name": "Python 3",
   "language": "python",
   "name": "python3"
  },
  "language_info": {
   "codemirror_mode": {
    "name": "ipython",
    "version": 3
   },
   "file_extension": ".py",
   "mimetype": "text/x-python",
   "name": "python",
   "nbconvert_exporter": "python",
   "pygments_lexer": "ipython3",
   "version": "3.8.5"
  }
 },
 "nbformat": 4,
 "nbformat_minor": 5
}
