{
 "cells": [
  {
   "cell_type": "code",
   "execution_count": 2,
   "id": "0a915dec-47c6-405b-88ed-24e15318bd9d",
   "metadata": {},
   "outputs": [],
   "source": [
    "import h5py\n",
    "import numpy as np\n",
    "import matplotlib.pyplot as plt\n",
    "%matplotlib inline"
   ]
  },
  {
   "cell_type": "code",
   "execution_count": 16,
   "id": "f6a38ef1-5fc5-4353-8541-854f618a01b8",
   "metadata": {},
   "outputs": [
    {
     "data": {
      "image/png": "[encoded data removed]",
      "text/plain": [
       "<Figure size 432x288 with 1 Axes>"
      ]
     },
     "metadata": {
      "needs_background": "light"
     },
     "output_type": "display_data"
    }
   ],
   "source": [
    "file_dir = 'muon_output/'\n",
    "filename = ['muon100.h5', 'muon90.h5','muon80.h5','muon70.h5','muon60.h5','muon50.h5']\n",
    "\n",
    "for i in filename:\n",
    "    with h5py.File(file_dir+i, 'r') as f:\n",
    "        t = np.array(f['segments'])\n",
    "        \n",
    "        for j in range(0, t['eventID'][-1]):\n",
    "            mask = ((t['eventID']==j)&(t['pdgId']==13))\n",
    "            selected_track = t[mask]\n",
    "            select_tracks_de = np.array(selected_track['dEdx'], dtype=float)\n",
    "            \n",
    "            if selected_track['x_start'].size>0:\n",
    "                \n",
    "                t_max = len(selected_track)-1\n",
    "\n",
    "                x_s = selected_track['x_start'][0]\n",
    "                y_s = selected_track['y_start'][0]\n",
    "                z_s = selected_track['z_start'][0]\n",
    "                x_e = selected_track['x_end'][t_max]\n",
    "                y_e = selected_track['y_end'][t_max]\n",
    "                z_e = selected_track['z_end'][t_max]\n",
    "\n",
    "                x_track = (x_e - selected_track['x']) \n",
    "                y_track = (y_e-selected_track['y']) \n",
    "                z_track = (z_e-selected_track['z']) \n",
    "                dist = np.sqrt(x_track**2 + y_track**2 + z_track**2)\n",
    "        \n",
    "        label = str(i).split('.')[0] + '[MeV]'\n",
    "        plt.scatter(dist, select_tracks_de, cmap=plt.cm.jet, label=label)\n",
    "\n",
    "\n",
    "\n",
    "plt.xlabel('Residual Distance [cm]')\n",
    "plt.ylabel('dEdx MeV/cm')\n",
    "plt.ylim(0,30)\n",
    "plt.legend()\n",
    "plt.savefig('dEdx vs dx.png', facecolor='w')"
   ]
  },
  {
   "cell_type": "code",
   "execution_count": null,
   "id": "f1f9dea4-9c16-4d59-b51c-aec82805da01",
   "metadata": {},
   "outputs": [],
   "source": [
    "fig = plt.figure(figsize=(7,7))\n",
    "ax = fig.add_subplot(111, projection='3d')\n",
    "\n",
    "for i in filename:\n",
    "    with h5py.File(file_dir+i, 'r') as f:\n",
    "        t = np.array(f['segments'])\n",
    "\n",
    "        mask = ((t['eventID']==1)&(t['pdgId']==13))\n",
    "        selected_track = t[mask]        \n",
    "        for it,t in enumerate(selected_tracks):\n",
    "            if it == 0:\n",
    "                ax.plot((t[\"x_start\"], t[\"x_end\"]), \n",
    "                    (t[\"y_start\"], t[\"y_end\"]),\n",
    "                    (t['z_start'], t['z_end']),\n",
    "#                     c='r',\n",
    "                    lw=1,\n",
    "                    alpha=1,\n",
    "                    zorder=10,\n",
    "                    label='Geant4 detector segment')\n",
    "            else:\n",
    "                ax.plot((t[\"x_start\"], t[\"x_end\"]), \n",
    "                        (t[\"y_start\"], t[\"y_end\"]),\n",
    "                        (t['z_start'], t['z_end']),\n",
    "#                         c='r',\n",
    "                        lw=1,\n",
    "                        alpha=1,\n",
    "                        zorder=9999)\n",
    "                \n",
    "plt.xlabel('x-dist [cm]')\n",
    "plt.ylabel('y-dist [cm]')\n",
    "plt.savefig('dist.png', facecolor='w')"
   ]
  },
  {
   "cell_type": "code",
   "execution_count": 4,
   "id": "49d1599b-f9ed-4162-9fb1-fe3b05d6bf6e",
   "metadata": {},
   "outputs": [],
   "source": []
  },
  {
   "cell_type": "code",
   "execution_count": 5,
   "id": "09de8929-a9f0-4c8d-b096-f5547c51fa2e",
   "metadata": {},
   "outputs": [
    {
     "data": {
      "text/plain": [
       "(15154,)"
      ]
     },
     "execution_count": 5,
     "metadata": {},
     "output_type": "execute_result"
    }
   ],
   "source": [
    "# larndsim Output"
   ]
  },
  {
   "cell_type": "code",
   "execution_count": 7,
   "id": "ca0b6078-c9b2-4a52-989c-60afc31605bb",
   "metadata": {},
   "outputs": [],
   "source": [
    "file_dir = 'muon_output/'\n",
    "\n",
    "with h5py.File(file_dir+'muon50.h5', 'r') as f:\n",
    "    t = np.array(f['segments'])"
   ]
  },
  {
   "cell_type": "code",
   "execution_count": 8,
   "id": "dee27960-a107-4274-abda-55de636cb042",
   "metadata": {},
   "outputs": [
    {
     "data": {
      "text/plain": [
       "array([0, 0, 0, ..., 0, 0, 0], dtype=uint32)"
      ]
     },
     "execution_count": 8,
     "metadata": {},
     "output_type": "execute_result"
    }
   ],
   "source": [
    "t['n_electrons']"
   ]
  },
  {
   "cell_type": "code",
   "execution_count": null,
   "id": "a154f14d-ebed-4828-9a92-31108739c346",
   "metadata": {},
   "outputs": [],
   "source": []
  }
 ],
 "metadata": {
  "kernelspec": {
   "display_name": "Python 3",
   "language": "python",
   "name": "python3"
  },
  "language_info": {
   "codemirror_mode": {
    "name": "ipython",
    "version": 3
   },
   "file_extension": ".py",
   "mimetype": "text/x-python",
   "name": "python",
   "nbconvert_exporter": "python",
   "pygments_lexer": "ipython3",
   "version": "3.8.5"
  }
 },
 "nbformat": 4,
 "nbformat_minor": 5
}
